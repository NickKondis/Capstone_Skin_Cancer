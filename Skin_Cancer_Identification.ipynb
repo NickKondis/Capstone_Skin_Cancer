{
 "cells": [
  {
   "cell_type": "markdown",
   "id": "40f54590-588b-4247-bf40-f23c75abbf2a",
   "metadata": {},
   "source": [
    "# Skin Cancer Identification"
   ]
  },
  {
   "cell_type": "code",
   "execution_count": null,
   "id": "1be223a1-55ab-4b30-8de3-1af630050b87",
   "metadata": {},
   "outputs": [],
   "source": []
  },
  {
   "cell_type": "code",
   "execution_count": 3,
   "id": "d38a6043-9e19-4917-a369-d3e0a5e6ef85",
   "metadata": {},
   "outputs": [],
   "source": [
    "# import necessary libraries\n",
    "import pandas as pd\n",
    "import numpy as np"
   ]
  },
  {
   "cell_type": "code",
   "execution_count": 5,
   "id": "45b46e6c-8000-4953-9fa0-02a361482410",
   "metadata": {},
   "outputs": [
    {
     "data": {
      "text/html": [
       "<div>\n",
       "<style scoped>\n",
       "    .dataframe tbody tr th:only-of-type {\n",
       "        vertical-align: middle;\n",
       "    }\n",
       "\n",
       "    .dataframe tbody tr th {\n",
       "        vertical-align: top;\n",
       "    }\n",
       "\n",
       "    .dataframe thead th {\n",
       "        text-align: right;\n",
       "    }\n",
       "</style>\n",
       "<table border=\"1\" class=\"dataframe\">\n",
       "  <thead>\n",
       "    <tr style=\"text-align: right;\">\n",
       "      <th></th>\n",
       "      <th>image</th>\n",
       "      <th>MEL</th>\n",
       "      <th>NV</th>\n",
       "      <th>BCC</th>\n",
       "      <th>AKIEC</th>\n",
       "      <th>BKL</th>\n",
       "      <th>DF</th>\n",
       "      <th>VASC</th>\n",
       "    </tr>\n",
       "  </thead>\n",
       "  <tbody>\n",
       "    <tr>\n",
       "      <th>0</th>\n",
       "      <td>ISIC_0024306</td>\n",
       "      <td>0.0</td>\n",
       "      <td>1.0</td>\n",
       "      <td>0.0</td>\n",
       "      <td>0.0</td>\n",
       "      <td>0.0</td>\n",
       "      <td>0.0</td>\n",
       "      <td>0.0</td>\n",
       "    </tr>\n",
       "    <tr>\n",
       "      <th>1</th>\n",
       "      <td>ISIC_0024307</td>\n",
       "      <td>0.0</td>\n",
       "      <td>1.0</td>\n",
       "      <td>0.0</td>\n",
       "      <td>0.0</td>\n",
       "      <td>0.0</td>\n",
       "      <td>0.0</td>\n",
       "      <td>0.0</td>\n",
       "    </tr>\n",
       "    <tr>\n",
       "      <th>2</th>\n",
       "      <td>ISIC_0024308</td>\n",
       "      <td>0.0</td>\n",
       "      <td>1.0</td>\n",
       "      <td>0.0</td>\n",
       "      <td>0.0</td>\n",
       "      <td>0.0</td>\n",
       "      <td>0.0</td>\n",
       "      <td>0.0</td>\n",
       "    </tr>\n",
       "    <tr>\n",
       "      <th>3</th>\n",
       "      <td>ISIC_0024309</td>\n",
       "      <td>0.0</td>\n",
       "      <td>1.0</td>\n",
       "      <td>0.0</td>\n",
       "      <td>0.0</td>\n",
       "      <td>0.0</td>\n",
       "      <td>0.0</td>\n",
       "      <td>0.0</td>\n",
       "    </tr>\n",
       "    <tr>\n",
       "      <th>4</th>\n",
       "      <td>ISIC_0024310</td>\n",
       "      <td>1.0</td>\n",
       "      <td>0.0</td>\n",
       "      <td>0.0</td>\n",
       "      <td>0.0</td>\n",
       "      <td>0.0</td>\n",
       "      <td>0.0</td>\n",
       "      <td>0.0</td>\n",
       "    </tr>\n",
       "  </tbody>\n",
       "</table>\n",
       "</div>"
      ],
      "text/plain": [
       "          image  MEL   NV  BCC  AKIEC  BKL   DF  VASC\n",
       "0  ISIC_0024306  0.0  1.0  0.0    0.0  0.0  0.0   0.0\n",
       "1  ISIC_0024307  0.0  1.0  0.0    0.0  0.0  0.0   0.0\n",
       "2  ISIC_0024308  0.0  1.0  0.0    0.0  0.0  0.0   0.0\n",
       "3  ISIC_0024309  0.0  1.0  0.0    0.0  0.0  0.0   0.0\n",
       "4  ISIC_0024310  1.0  0.0  0.0    0.0  0.0  0.0   0.0"
      ]
     },
     "execution_count": 5,
     "metadata": {},
     "output_type": "execute_result"
    }
   ],
   "source": [
    "# read the csv file that contains the imape labels (classes)\n",
    "\n",
    "sc_labels = pd.read_csv('GroundTruth.csv')\n",
    "sc_labels.head()\n"
   ]
  },
  {
   "cell_type": "code",
   "execution_count": 7,
   "id": "0914b482-3da5-4fc7-807d-0dcc6941f3d0",
   "metadata": {},
   "outputs": [
    {
     "data": {
      "text/plain": [
       "image    0\n",
       "MEL      0\n",
       "NV       0\n",
       "BCC      0\n",
       "AKIEC    0\n",
       "BKL      0\n",
       "DF       0\n",
       "VASC     0\n",
       "dtype: int64"
      ]
     },
     "execution_count": 7,
     "metadata": {},
     "output_type": "execute_result"
    }
   ],
   "source": [
    "# Check for missing values\n",
    "sc_labels.isna().sum()"
   ]
  },
  {
   "cell_type": "code",
   "execution_count": 11,
   "id": "f69139f5-2594-40e4-87fd-88baf6cf863f",
   "metadata": {},
   "outputs": [
    {
     "name": "stdout",
     "output_type": "stream",
     "text": [
      "Unique values in column 'MEL': [0. 1.]\n",
      "Unique values in column 'NV': [1. 0.]\n",
      "Unique values in column 'BCC': [0. 1.]\n",
      "Unique values in column 'AKIEC': [0. 1.]\n",
      "Unique values in column 'BKL': [0. 1.]\n",
      "Unique values in column 'DF': [0. 1.]\n",
      "Unique values in column 'VASC': [0. 1.]\n"
     ]
    }
   ],
   "source": [
    "for column in sc_labels.columns[1:]:\n",
    "    unique_values = sc_labels[column].unique()\n",
    "    print(f\"Unique values in column '{column}': {unique_values}\")"
   ]
  },
  {
   "cell_type": "code",
   "execution_count": 29,
   "id": "7a0f9a72-03a3-4f0d-a755-951f4f40280c",
   "metadata": {
    "tags": []
   },
   "outputs": [
    {
     "name": "stdout",
     "output_type": "stream",
     "text": [
      "No rows with multiple '1.0' labels.\n"
     ]
    }
   ],
   "source": [
    "# Check for rows with multiple 1.0 labels in the binary columns\n",
    "rows_with_multiple_ones = []\n",
    "for index, row in sc_labels.iterrows():\n",
    "    if sum(row.iloc[1:]) > 1:  # Exclude the first column\n",
    "        rows_with_multiple_ones.append(index)\n",
    "\n",
    "if rows_with_multiple_ones:\n",
    "    print(\"Rows with multiple '1.0' labels:\")\n",
    "    for index in rows_with_multiple_ones:\n",
    "        print(sc_labels.iloc[index])\n",
    "else:\n",
    "    print(\"No rows with multiple '1.0' labels.\")\n"
   ]
  },
  {
   "cell_type": "markdown",
   "id": "93719247-b2af-46d7-9c1b-1a04f9d70fad",
   "metadata": {},
   "source": [
    "The information above indicates that we have a clean dataset, no missing values and unique identifiers for each image."
   ]
  },
  {
   "cell_type": "markdown",
   "id": "3a473af1-51d7-409a-91c1-9a332eba4f75",
   "metadata": {},
   "source": [
    "One issue that will be dealt with later is that the images are not standardized, thit is the images vary in sizes.  This will be handled when the images are prepared as part of the loading step of the data to the convolution neural network."
   ]
  },
  {
   "cell_type": "code",
   "execution_count": null,
   "id": "fcdd9023-595e-4db0-8949-66bc97ad3b60",
   "metadata": {},
   "outputs": [],
   "source": []
  },
  {
   "cell_type": "code",
   "execution_count": null,
   "id": "2c1589d5-c88c-49e5-9c3e-3f7c4d9cef42",
   "metadata": {},
   "outputs": [],
   "source": []
  },
  {
   "cell_type": "code",
   "execution_count": null,
   "id": "d95367d9-a8a7-45ce-960e-3a8555882692",
   "metadata": {},
   "outputs": [],
   "source": []
  }
 ],
 "metadata": {
  "kernelspec": {
   "display_name": "Python 3 (ipykernel)",
   "language": "python",
   "name": "python3"
  },
  "language_info": {
   "codemirror_mode": {
    "name": "ipython",
    "version": 3
   },
   "file_extension": ".py",
   "mimetype": "text/x-python",
   "name": "python",
   "nbconvert_exporter": "python",
   "pygments_lexer": "ipython3",
   "version": "3.11.7"
  }
 },
 "nbformat": 4,
 "nbformat_minor": 5
}
