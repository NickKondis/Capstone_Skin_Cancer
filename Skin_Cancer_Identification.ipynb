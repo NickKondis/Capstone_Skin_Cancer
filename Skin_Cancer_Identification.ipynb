{
 "cells": [
  {
   "cell_type": "markdown",
   "id": "40f54590-588b-4247-bf40-f23c75abbf2a",
   "metadata": {},
   "source": [
    "# Skin Cancer Identification"
   ]
  },
  {
   "cell_type": "code",
   "execution_count": null,
   "id": "1be223a1-55ab-4b30-8de3-1af630050b87",
   "metadata": {},
   "outputs": [],
   "source": []
  },
  {
   "cell_type": "code",
   "execution_count": null,
   "id": "d38a6043-9e19-4917-a369-d3e0a5e6ef85",
   "metadata": {},
   "outputs": [],
   "source": []
  },
  {
   "cell_type": "code",
   "execution_count": null,
   "id": "45b46e6c-8000-4953-9fa0-02a361482410",
   "metadata": {},
   "outputs": [],
   "source": []
  },
  {
   "cell_type": "code",
   "execution_count": null,
   "id": "0914b482-3da5-4fc7-807d-0dcc6941f3d0",
   "metadata": {},
   "outputs": [],
   "source": []
  },
  {
   "cell_type": "code",
   "execution_count": null,
   "id": "f69139f5-2594-40e4-87fd-88baf6cf863f",
   "metadata": {},
   "outputs": [],
   "source": []
  },
  {
   "cell_type": "code",
   "execution_count": null,
   "id": "07286ea8-1385-4113-a3a7-526db77f5eeb",
   "metadata": {},
   "outputs": [],
   "source": []
  }
 ],
 "metadata": {
  "kernelspec": {
   "display_name": "Python 3 (ipykernel)",
   "language": "python",
   "name": "python3"
  },
  "language_info": {
   "codemirror_mode": {
    "name": "ipython",
    "version": 3
   },
   "file_extension": ".py",
   "mimetype": "text/x-python",
   "name": "python",
   "nbconvert_exporter": "python",
   "pygments_lexer": "ipython3",
   "version": "3.11.7"
  }
 },
 "nbformat": 4,
 "nbformat_minor": 5
}
